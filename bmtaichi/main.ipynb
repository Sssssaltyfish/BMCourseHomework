{
 "cells": [
  {
   "cell_type": "code",
   "execution_count": 2,
   "metadata": {},
   "outputs": [],
   "source": [
    "import torch\n",
    "\n",
    "from modeldef import load_model\n",
    "\n",
    "MODEL_NAME = \"facebook/incoder-1B\"\n",
    "if not torch.cuda.is_available():\n",
    "    exit(-1)\n",
    "device = torch.device(\"cuda\")\n"
   ]
  },
  {
   "cell_type": "code",
   "execution_count": 3,
   "metadata": {},
   "outputs": [],
   "source": [
    "model, tokenizer = load_model(MODEL_NAME)\n",
    "model = model.cuda()\n"
   ]
  },
  {
   "cell_type": "code",
   "execution_count": 4,
   "metadata": {},
   "outputs": [],
   "source": [
    "from tqdm import tqdm\n",
    "from torchtext.data.metrics import bleu_score\n",
    "\n",
    "import modeldef\n",
    "\n",
    "\n",
    "def evaluate(prompt_model, tokenizer, dataloader):\n",
    "    predictions = []\n",
    "    ground_truths = []\n",
    "    print(\"\\nbegin evaluation\")\n",
    "\n",
    "    prompt_model.eval()\n",
    "    pbar = tqdm(dataloader, desc=\"Evaluate\")\n",
    "\n",
    "    for inputs in pbar:\n",
    "        output_sentence = modeldef.infill(prompt_model, tokenizer, inputs)\n",
    "        predictions.extend(output_sentence[\"text\"].strip())\n",
    "        ground_truths.extend(inputs.strip())\n",
    "\n",
    "    assert len(predictions) == len(ground_truths), (\n",
    "        len(predictions),\n",
    "        len(ground_truths),\n",
    "    )\n",
    "    # show one example\n",
    "    print(f\"predictions {predictions[0]}, ground_truths {ground_truths[0]}\")\n",
    "\n",
    "    score = bleu_score(predictions, ground_truths)\n",
    "    return score\n"
   ]
  },
  {
   "cell_type": "code",
   "execution_count": 5,
   "metadata": {},
   "outputs": [],
   "source": [
    "from enum import Enum\n",
    "import random\n",
    "from modeldef import FILE, INFILL\n",
    "\n",
    "\n",
    "class SampleMethod(Enum):\n",
    "    Begin = \"begin\"\n",
    "    End = \"end\"\n",
    "    Span = \"span\"\n",
    "    All = \"all\"\n",
    "\n",
    "\n",
    "def datum2sample(j, sample_method: SampleMethod):\n",
    "    comment: list[str] = j[\"nl\"]\n",
    "\n",
    "    tokens: list[str] = j[\"code_tokens_normalized\"]\n",
    "    randl = random.randrange(0, len(tokens))\n",
    "    randr = random.randrange(randl, len(tokens))\n",
    "\n",
    "    def _begin():\n",
    "        return [INFILL, *tokens[randl:]], tokens[:randl]\n",
    "    def _end():\n",
    "        return [*tokens[:randr], INFILL, FILE], tokens[randr:]\n",
    "    def _span():\n",
    "        return [*tokens[:randl], INFILL, *tokens[randr:]], tokens[randl:randr]\n",
    "    def _all():\n",
    "        return [INFILL, FILE], tokens[:]\n",
    "\n",
    "    unmasked, masked = {\n",
    "        SampleMethod.All: _all,\n",
    "        SampleMethod.Begin: _begin,\n",
    "        SampleMethod.End: _end,\n",
    "        SampleMethod.Span: _span,\n",
    "    }[sample_method]()\n",
    "\n",
    "    return comment, unmasked, masked\n",
    "\n",
    "\n",
    "def concat_tokens(l: list[str]):\n",
    "    ret = l[0]\n",
    "    newline = False\n",
    "    for t in l[1:]:\n",
    "        if not newline:\n",
    "            ret += ' '\n",
    "        else:\n",
    "            newline = False\n",
    "        ret += t\n",
    "\n",
    "        if t.endswith(\"\\n\"):\n",
    "            newline = True\n",
    "\n",
    "    return ret\n"
   ]
  },
  {
   "cell_type": "code",
   "execution_count": 6,
   "metadata": {},
   "outputs": [],
   "source": [
    "import json\n",
    "from pathlib import Path\n",
    "\n",
    "\n",
    "datadir = Path(\"data\")\n",
    "dev = datadir / \"dev_sampled_preprocessed.json\"\n",
    "test = datadir / \"test_sampled_preprocessed.json\"\n",
    "train = datadir / \"train_sampled_preprocessed.json\"\n",
    "paths = [dev, test, train]\n",
    "\n",
    "for path in paths:\n",
    "    j = json.load(path.open(\"r\"))\n"
   ]
  },
  {
   "cell_type": "code",
   "execution_count": 13,
   "metadata": {},
   "outputs": [],
   "source": [
    "from modeldef import infill\n",
    "from pprint import pprint\n",
    "\n"
   ]
  },
  {
   "cell_type": "code",
   "execution_count": 56,
   "metadata": {},
   "outputs": [
    {
     "name": "stdout",
     "output_type": "stream",
     "text": [
      "['x = np.linspace(0.1, 0.9,33)\\ny = 0.1 * x + 7 * np.random.randn(33)']\n"
     ]
    }
   ],
   "source": [
    "example = \"\"\"\n",
    "# Generate the data according to $$ y = \\\\sum { i=0 } ^ 5 \\\\betaix^i+e, $$ where $ \\\\beta $ are random random integers from [2, 11) , $x$ is the grid of 33 equidistant points on [0.1, 0.9] , and $ e\\\\sim N (0, 7) $. Plot the data.\n",
    "\n",
    "import matplotlib.pylab as plt\n",
    "\n",
    "<infill>\n",
    "plt.plot(x, y, 'o', label='Data')\n",
    "plt.legend(loc='best')\n",
    "plt.show()\n",
    "\"\"\"\n",
    "\n",
    "\n",
    "pred = infill(model, tokenizer, example.split(INFILL))\n",
    "pprint(pred[\"infills\"])"
   ]
  },
  {
   "cell_type": "code",
   "execution_count": 57,
   "metadata": {},
   "outputs": [
    {
     "name": "stdout",
     "output_type": "stream",
     "text": [
      "['beta = np.random.randint(0, 10, 6)\\n'\n",
      " 'npoints = 33\\n'\n",
      " 'x = np.linspace(0.1, 0.9, npoints)\\n'\n",
      " 'y = np.poly1d(beta)(x)\\n'\n",
      " 'y += np.random.normal(0, 7, y.shape)\\n'\n",
      " '\\n'\n",
      " '# Plot the data.']\n"
     ]
    }
   ],
   "source": [
    "example = \"\"\"\n",
    "# Generate the data according to $$ y = \\\\sum { i=0 } ^ 5 \\\\betaix^i+e, $$ where $ \\\\beta $ are random random integers from [0, 10) , $x$ is the grid of 50 equidistant points on [0, 1] , and $ e\\\\sim N (0, 5) $.\n",
    "\n",
    "import matplotlib.pylab as plt\n",
    "\n",
    "beta = np.random.randint(0, 10, 6)\n",
    "npoints = 50\n",
    "x = np.linspace(0, 1, npoints)\n",
    "y = np.poly1d(beta)(x)\n",
    "y += np.random.normal(0, 5, y.shape)\n",
    "\n",
    "# Generate the data according to $$ y = \\\\sum { i=0 } ^ 5 \\\\betaix^i+e, $$ where $ \\\\beta $ are random random integers from [2, 11) , $x$ is the grid of 33 equidistant points on [0.1, 0.9] , and $ e\\\\sim N (0, 7) $. Plot the data.\n",
    "\n",
    "import matplotlib.pylab as plt\n",
    "\n",
    "<infill>\n",
    "plt.plot(x, y, 'o', label='Data')\n",
    "plt.legend(loc='best')\n",
    "plt.show()\n",
    "\"\"\"\n",
    "\n",
    "\n",
    "pred = infill(model, tokenizer, example.split(INFILL))\n",
    "pprint(pred[\"infills\"])\n"
   ]
  },
  {
   "cell_type": "code",
   "execution_count": 58,
   "metadata": {},
   "outputs": [
    {
     "name": "stdout",
     "output_type": "stream",
     "text": [
      "['beta = np.random.randint(2, 11, 3+1)\\n'\n",
      " 'npoints = 33\\n'\n",
      " 'x = np.linspace(0.1, 0.9, npoints)\\n'\n",
      " 'y = np.poly1d(beta)(x)\\n'\n",
      " 'y += np.random.normal(0, 7, y.shape)\\n'\n",
      " \"plt.plot(x, y, 'o', label='Data')\\n\"\n",
      " \"plt.legend(loc='best')\\n\"\n",
      " 'plt.show()']\n"
     ]
    }
   ],
   "source": [
    "example = \"\"\"\n",
    "# Generate the data according to $$ y = \\\\sum { i=0 } ^ 5 \\\\betaix^i+e, $$ where $ \\\\beta $ are random random integers from [0, 10) , $x$ is the grid of 50 equidistant points on [0, 1] , and $ e\\\\sim N (0, 5) $. Plot the data.\n",
    "\n",
    "import matplotlib.pylab as plt\n",
    "\n",
    "beta = np.random.randint(0, 10, 5+1)\n",
    "npoints = 50\n",
    "x = np.linspace(0, 1, npoints)\n",
    "y = np.poly1d(beta)(x)\n",
    "y += np.random.normal(0, 5, y.shape)\n",
    "plt.plot(x, y, 'o', label='Data')\n",
    "plt.legend(loc='best')\n",
    "plt.show()\n",
    "\n",
    "# $ l\\\\sim N (4, 5) $,\n",
    "l = np.random.normal(4, 5, y.shape)\n",
    "\n",
    "# Generate the data according to $$ p = \\\\sum { i=0 } ^ 7 cx $$, where $ c $ are random integers from [2.6, 3.7), $x$ is the grid of 80 equidistant points on [5, 6]\n",
    "c = np.random.randint(2.6, 3.7, 7+1). Plot the data.\n",
    "npoints = 80\n",
    "x = np.linspace(5, 6, npoints)\n",
    "p = np.poly1d(r)(x)\n",
    "plt.plot(x, p, 'o', label='Data')\n",
    "plt.legend(loc='best')\n",
    "plt.show()\n",
    "\n",
    "# Generate the data according to $$ z = \\\\sum { i=0 } ^ 3 \\\\betaix^i+e, $$ where $ \\\\beta $ are random random integers from [2, 11) , $x$ is the grid of 33 equidistant points on [0.1, 0.9] , and $ e\\\\sim N (1, 7) $. Plot the data.\n",
    "\n",
    "import matplotlib.pylab as plt\\n\\n<infill>\\n<|/ file |>\n",
    "\"\"\"\n",
    "\n",
    "\n",
    "pred = infill(model, tokenizer, example.split(INFILL))\n",
    "pprint(pred[\"infills\"])\n"
   ]
  },
  {
   "cell_type": "code",
   "execution_count": 60,
   "metadata": {},
   "outputs": [
    {
     "name": "stdout",
     "output_type": "stream",
     "text": [
      "['vec3(1, 1, 1), vec3(1, 1, 1), vec3(1, 0, 0))\\n'\n",
      " '\\n'\n",
      " '# create a green ball at (0, 1, 1) with radius of 5\\n'\n",
      " 'create_ball(vec3(0, 1, 1), vec3(0, 1, 1), vec3(0, 1, 0))\\n'\n",
      " '\\n'\n",
      " '# create a blue ball at (0, 0, 1) with radius of 5\\n'\n",
      " 'create_ball(vec3(0, 0, 1), vec3(0, 0, 1), vec3(0, 0, 0))\\n'\n",
      " '\\n'\n",
      " '# create a yellow ball at (1, 1, 0) with radius of 5\\n'\n",
      " 'create_ball(vec3(1, 1, 0), vec3(1, 1, 0), vec3(1, 0, 0))\\n'\n",
      " '\\n'\n",
      " '# create a white ball at (0, 1, 0) with radius of 5\\n'\n",
      " 'create_ball(vec3(0, 1, 0), vec3(0, 1, 0), vec']\n"
     ]
    }
   ],
   "source": [
    "example = \"\"\"\n",
    "@ti.func\n",
    "def create_ball(r, p: vec3, color):\n",
    "    ''' create a ball at position `p` with radius `r` and color `color` '''\n",
    "    for i, j, k in ti.ndrange((-r, r), (-r, r), (-r, r)):\n",
    "        x = ivec3(i, j, k)\n",
    "        if distance(x, vec3(0, 0, 0)) + 0.5 <= feed_r:\n",
    "            scene.set_voxel(p + vec3(i, j, k), 2, color)\n",
    "\n",
    "# create a red ball at (1, 1, 1) with radius of 5\n",
    "create_ball(<infill>)\n",
    "<|/ file |>\n",
    "\"\"\"\n",
    "\n",
    "pred = infill(model, tokenizer, example.split(INFILL))\n",
    "pprint(pred[\"infills\"])\n"
   ]
  },
  {
   "cell_type": "code",
   "execution_count": 99,
   "metadata": {},
   "outputs": [
    {
     "name": "stdout",
     "output_type": "stream",
     "text": [
      "['create_ball(2.3, vec3(-1, 0.7, 9), vec3(0, 0, 255))',\n",
      " 'create_ball(3.5, vec3(-1, 0.7, 9), vec3(0, 255, 0))\\n'\n",
      " '\\n'\n",
      " '# create a green ball at the same position with radius smaller than \"this '\n",
      " 'ball\"\\n'\n",
      " 'create_ball(3.5, vec3(-1, 0.7, 9), vec3(0, 0, 0))\\n'\n",
      " '\\n'\n",
      " '# create a green ball \"this ball\" at (-1, 0.7, 9) with radius of 2.3\\n'\n",
      " 'create_ball(2.3, vec3(-1, 0.7, 9), vec3(0, 0, 0))\\n'\n",
      " '\\n'\n",
      " '# create a green ball \"this ball\" at (-1, 0.7, 9) with radius of 2.3\\n'\n",
      " 'create_ball(2.3, vec3(-1, 0.7, 9), vec3(0, 0, 0))\\n'\n",
      " '\\n'\n",
      " '# create a green ball \"this ']\n"
     ]
    }
   ],
   "source": [
    "example = \"\"\"\n",
    "@ti.func\n",
    "def create_ball(r, p: vec3, color):\n",
    "    ''' create a ball at position `p` with radius `r` and color `color` '''\n",
    "    for i, j, k in ti.ndrange((-r, r), (-r, r), (-r, r)):\n",
    "        x = ivec3(i, j, k)\n",
    "        if distance(x, vec3(0, 0, 0)) <= r:\n",
    "            scene.set_voxel(p + vec3(i, j, k), 2, color)\n",
    "\n",
    "# create a red ball \"some ball\" at (1, 1, 1) with radius of 5\n",
    "create_ball(5, vec3(1, 1, 1), vec3(255, 0, 0))\n",
    "\n",
    "# create a white ball with radius bigger than \"some ball\"\n",
    "create_ball(6.7, vec3(1, 1, 1), vec3(255, 255, 255))\n",
    "\n",
    "# create a crimson ball with radius bigger than \"some ball\"\n",
    "create_ball(10, vec3(1, 1, 1), vec3(220, 20, 60))\n",
    "\n",
    "# create a crimson ball with radius smaller than \"some ball\"\n",
    "create_ball(1, vec3(1, 1, 1), vec3(220, 20, 60))\n",
    "\n",
    "# create a blue ball \"this ball\" at (-1, 0.7, 9) with radius of 2.3\n",
    "<infill>\n",
    "\n",
    "# create a green ball at the same position with radius bigger than \"this ball\"\n",
    "<infill>\n",
    "<|/ file |>\n",
    "\"\"\"\n",
    "\n",
    "pred = infill(model, tokenizer, example.split(INFILL), temperature=0.1)\n",
    "pprint(pred[\"infills\"])\n"
   ]
  },
  {
   "cell_type": "code",
   "execution_count": 105,
   "metadata": {},
   "outputs": [
    {
     "name": "stdout",
     "output_type": "stream",
     "text": [
      "['create_ball(1, vec3(1, 1, 1), color)',\n",
      " 'create_ball(1, vec3(1, 1, 2), color)\\n'\n",
      " '\\n'\n",
      " '# place another ball on the top of the red ball\\n'\n",
      " 'create_ball(2, vec3(1, 1, 3), color)\\n'\n",
      " '\\n'\n",
      " '# place another ball on the top of the red ball\\n'\n",
      " 'create_ball(3, vec3(1, 1, 4), color)\\n'\n",
      " '\\n'\n",
      " '# place another ball on the top of the red ball\\n'\n",
      " 'create_ball(4, vec3(1, 1, 5), color)\\n'\n",
      " '\\n'\n",
      " '# create a green ball at position (2, 2, 1) with radius of 6\\n'\n",
      " 'create_ball(1, vec3(2, 2, 1), color)\\n'\n",
      " '\\n'\n",
      " '# place another ball on the top of the green ball with radius of 3\\n'\n",
      " 'create_ball(1, vec3(2, 2, 2), color)\\n'\n",
      " '\\n'\n",
      " '# place another ball on the top of the green ball\\n'\n",
      " 'create_ball']\n"
     ]
    }
   ],
   "source": [
    "example = \"\"\"\n",
    "# white\n",
    "color = vec3(0, 0, 0)\n",
    "\n",
    "# create \"some ball\"\n",
    "create_ball(1, vec3(0, 0, 0), color)\n",
    "\n",
    "# place another ball on the top of \"some ball\" with radius of 1\n",
    "create_ball(1, vec3(0, 0, 2), color)\n",
    "\n",
    "# place another ball on the top of \"some ball\"\n",
    "create_ball(2, vec3(0, 0, 3), color)\n",
    "\n",
    "# create \"yet some ball\" with radius of 4\n",
    "create_ball(4, vec3(2, 3, 2), color)\n",
    "\n",
    "# place another ball on the top of \"yet some ball\"\n",
    "create_ball(1, vec3(2, 3, 7), color)\n",
    "\n",
    "# place another ball on the top of \"some ball\"\n",
    "create_ball(2, vec3(2, 3, 8), color)\n",
    "\n",
    "# create a red ball at position (1, 1, 1) with radius of 5\n",
    "<infill>\n",
    "\n",
    "# place another ball on the top of the red ball with radius of 3\n",
    "<infill>\n",
    "<|/ file |>\n",
    "\"\"\"\n",
    "\n",
    "pred = infill(model, tokenizer, example.split(INFILL))\n",
    "pprint(pred[\"infills\"])\n"
   ]
  },
  {
   "cell_type": "code",
   "execution_count": null,
   "metadata": {},
   "outputs": [],
   "source": []
  }
 ],
 "metadata": {
  "kernelspec": {
   "display_name": "Python 3.10.4 ('word2vec')",
   "language": "python",
   "name": "python3"
  },
  "language_info": {
   "codemirror_mode": {
    "name": "ipython",
    "version": 3
   },
   "file_extension": ".py",
   "mimetype": "text/x-python",
   "name": "python",
   "nbconvert_exporter": "python",
   "pygments_lexer": "ipython3",
   "version": "3.10.4"
  },
  "orig_nbformat": 4,
  "vscode": {
   "interpreter": {
    "hash": "e1d213b9a864eaef6c5d39ee2d374cc02d710a0f1fa90843d9c542e68100c66d"
   }
  }
 },
 "nbformat": 4,
 "nbformat_minor": 2
}
